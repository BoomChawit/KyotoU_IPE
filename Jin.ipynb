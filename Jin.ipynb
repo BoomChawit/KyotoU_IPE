{
 "cells": [
  {
   "cell_type": "code",
   "execution_count": 45,
   "metadata": {},
   "outputs": [
    {
     "name": "stdout",
     "output_type": "stream",
     "text": [
      "number to search: 20\n",
      "index =  9\n",
      "CPU times: user 2.4 ms, sys: 1.77 ms, total: 4.17 ms\n",
      "Wall time: 1.45 s\n"
     ]
    }
   ],
   "source": [
    "%%time\n",
    "def sorted_search(x: int,y: list):\n",
    "    start = 0\n",
    "    finish = len(y)//2\n",
    "    n = int((len(y))**0.5)\n",
    "    for i in range(n):\n",
    "        t = 'cannot find'\n",
    "        if (finish > len(y)):\n",
    "            return None\n",
    "        for a in range(start, finish):\n",
    "            if x == Listint[a]:\n",
    "                return a\n",
    "                t = 'found'\n",
    "                break\n",
    "        if t == 'found':\n",
    "            break\n",
    "        else:\n",
    "            start = finish\n",
    "            finish = start + (start//2)\n",
    "                \n",
    "# l = input(\"List: \")\n",
    "# List = l.split()\n",
    "\n",
    "# Listint = []\n",
    "# for i in List:\n",
    "#     Listint.append(int(i))\n",
    "# print(Listint)\n",
    "\n",
    "Listint = [3,4,5,6,7,8,10,1,2,20]\n",
    "x = int(input(\"number to search: \"))\n",
    "\n",
    "print(\"index = \",sorted_search(x,Listint))\n"
   ]
  },
  {
   "cell_type": "code",
   "execution_count": 50,
   "metadata": {},
   "outputs": [
    {
     "name": "stdout",
     "output_type": "stream",
     "text": [
      "number to search: 20\n",
      "index =  9\n",
      "CPU times: user 2.42 ms, sys: 1.67 ms, total: 4.09 ms\n",
      "Wall time: 1.14 s\n"
     ]
    }
   ],
   "source": [
    "%%time\n",
    "\n",
    "def sorted_search(x: int,y: list):\n",
    "    m = len(y)\n",
    "    for a in range(m):\n",
    "        if x == y[a]:\n",
    "            return a\n",
    "\n",
    "Listint = [3,4,5,6,7,8,10,1,2,20]\n",
    "x = int(input(\"number to search: \"))\n",
    "\n",
    "print(\"index = \",sorted_search(x,Listint))"
   ]
  },
  {
   "cell_type": "code",
   "execution_count": 15,
   "metadata": {},
   "outputs": [
    {
     "name": "stdout",
     "output_type": "stream",
     "text": [
      "put2\n",
      "0\n",
      "CPU times: user 2.16 ms, sys: 1.63 ms, total: 3.78 ms\n",
      "Wall time: 1.44 s\n"
     ]
    }
   ],
   "source": [
    "%%time\n",
    "list = [2,3,5,7,11,13,15,19,23,30,45,67]\n",
    "\n",
    "i = 0\n",
    "e = len(list)-1\n",
    "m = (i+e)//2\n",
    "elt = int(input(\"put\"))\n",
    "while e>i:\n",
    "    if elt == list[i]:\n",
    "        print(i)\n",
    "        break\n",
    "    elif elt == list[e]:\n",
    "        print(e)\n",
    "        break\n",
    "    elif elt == list[m]:\n",
    "        print(m)\n",
    "        break\n",
    "    else:\n",
    "        if elt > list[m]:\n",
    "            i = m\n",
    "            m = (i+e)//2\n",
    "        else:\n",
    "            e = m\n",
    "            m = (i+e)//2"
   ]
  },
  {
   "cell_type": "code",
   "execution_count": 22,
   "metadata": {},
   "outputs": [
    {
     "name": "stdout",
     "output_type": "stream",
     "text": [
      "Please input a sorted array:2 4 9 13 15 20 23 27 29 30\n",
      "[2, 4, 9, 13, 15, 20, 23, 27, 29, 30]\n",
      "Please input an element to search:2\n",
      "0\n"
     ]
    }
   ],
   "source": [
    "userinput = input (\"Please input a sorted array:\")\n",
    "array = userinput.split()\n",
    "arrayint = []\n",
    "for i in range(len(array)):\n",
    "    arrayint.append(int(array[i]))\n",
    "    \n",
    "print(arrayint)\n",
    "\n",
    "elt = int(input(\"Please input an element to search:\"))\n",
    "\n",
    "def sorted_search(elt, arrayint):\n",
    "    i = 0\n",
    "    t = len(arrayint) - 1 \n",
    "    m = (i+t)//2\n",
    "\n",
    "    while t - i > 1:\n",
    "        if elt == arrayint[i]:\n",
    "            return i\n",
    "            break \n",
    "        \n",
    "        elif elt == arrayint[t]:\n",
    "            return t\n",
    "            break\n",
    "        \n",
    "        elif elt == arrayint[m]:\n",
    "            return m\n",
    "            break\n",
    "        \n",
    "        else:\n",
    "            if elt > arrayint[m]:\n",
    "                i = m \n",
    "                m = (i+t)//2\n",
    "\n",
    "            else: \n",
    "                t = m \n",
    "                m = (i+t)//2\n",
    "\n",
    "    return \"none\"\n",
    "    \n",
    "output = sorted_search(elt,arrayint)\n",
    "print(output)"
   ]
  },
  {
   "cell_type": "code",
   "execution_count": 1,
   "metadata": {},
   "outputs": [
    {
     "name": "stdout",
     "output_type": "stream",
     "text": [
      "Boom\n",
      "4\n"
     ]
    }
   ],
   "source": [
    "def boom(x):\n",
    "    print(\"Boom\")\n",
    "    return x+2\n",
    "\n",
    "a = boom(2)\n",
    "print(a)"
   ]
  },
  {
   "cell_type": "code",
   "execution_count": null,
   "metadata": {},
   "outputs": [],
   "source": []
  }
 ],
 "metadata": {
  "kernelspec": {
   "display_name": "Python 3",
   "language": "python",
   "name": "python3"
  },
  "language_info": {
   "codemirror_mode": {
    "name": "ipython",
    "version": 3
   },
   "file_extension": ".py",
   "mimetype": "text/x-python",
   "name": "python",
   "nbconvert_exporter": "python",
   "pygments_lexer": "ipython3",
   "version": "3.7.3"
  }
 },
 "nbformat": 4,
 "nbformat_minor": 2
}
