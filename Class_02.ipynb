{
 "cells": [
  {
   "cell_type": "code",
   "execution_count": 58,
   "metadata": {},
   "outputs": [
    {
     "name": "stdout",
     "output_type": "stream",
     "text": [
      "20\n"
     ]
    }
   ],
   "source": [
    "import numpy as np\n",
    "\n",
    "A = np.array([-1, 2, 6])\n",
    "B = np.array([4, 3, 3])\n",
    "\n",
    "print(np.dot(A,B))"
   ]
  },
  {
   "cell_type": "code",
   "execution_count": 59,
   "metadata": {},
   "outputs": [
    {
     "name": "stdout",
     "output_type": "stream",
     "text": [
      "Angle between A and B is  1.0054934662619064\n"
     ]
    }
   ],
   "source": [
    "import numpy as np\n",
    "\n",
    "A = np.array([-1, 2, 6])\n",
    "B = np.array([4, 3, 3])\n",
    "\n",
    "x = np.dot(A,B)\n",
    "a = np.linalg.norm(A)\n",
    "b = np.linalg.norm(B)\n",
    "\n",
    "print(\"Angle between A and B is \",np.arccos(x/(a*b)))"
   ]
  },
  {
   "cell_type": "code",
   "execution_count": 61,
   "metadata": {},
   "outputs": [
    {
     "name": "stdout",
     "output_type": "stream",
     "text": [
      "First array: 1 0 0\n",
      "Second array: 0 1 0\n",
      "right angle\n"
     ]
    }
   ],
   "source": [
    "import numpy as np \n",
    "\n",
    "\n",
    "A = input(\"First array: \")\n",
    "A = A.split()\n",
    "\n",
    "for e,n in enumerate(A):\n",
    "    A[e]= int(n)\n",
    "\n",
    "B = input(\"Second array: \")\n",
    "B = B.split()\n",
    "\n",
    "for e,n in enumerate(B):\n",
    "    B[e]= int(n)\n",
    "\n",
    "\n",
    "if (np.dot(A,B)>0):\n",
    "    print(\"acute\")\n",
    "elif (np.dot(A,B)<0):\n",
    "    print(\"obtuse\")\n",
    "else: \n",
    "    print(\"right angle\")"
   ]
  },
  {
   "cell_type": "code",
   "execution_count": 11,
   "metadata": {},
   "outputs": [
    {
     "name": "stdout",
     "output_type": "stream",
     "text": [
      "[1.10517092e+00 1.00000000e+00 2.20264658e+04]\n"
     ]
    }
   ],
   "source": [
    "import numpy as np\n",
    "\n",
    "def exponential(x: list):\n",
    "    return (np.exp(x))\n",
    "\n",
    "a = np.array([0.1, 0, 10])\n",
    "print(exponential(a))"
   ]
  },
  {
   "cell_type": "code",
   "execution_count": 62,
   "metadata": {},
   "outputs": [
    {
     "name": "stdout",
     "output_type": "stream",
     "text": [
      "Input a degree:180\n",
      "3.141592653589793\n"
     ]
    }
   ],
   "source": [
    "from math import pi as pi\n",
    "\n",
    "def degree_to_radian(x: float):\n",
    "    return((x*pi)/180)\n",
    "\n",
    "t = float(input(\"Input a degree:\"))\n",
    "print(degree_to_radian(t))"
   ]
  },
  {
   "cell_type": "code",
   "execution_count": 48,
   "metadata": {},
   "outputs": [
    {
     "name": "stdout",
     "output_type": "stream",
     "text": [
      "[2. 4. 9.]\n"
     ]
    }
   ],
   "source": [
    "from math import sqrt\n",
    "import numpy as np\n",
    "\n",
    "def square_root (x: list):\n",
    "    return(np.sqrt(x))\n",
    "\n",
    "a = np.array([4,16,81])\n",
    "print(square_root(a))"
   ]
  },
  {
   "cell_type": "code",
   "execution_count": 57,
   "metadata": {},
   "outputs": [
    {
     "name": "stdout",
     "output_type": "stream",
     "text": [
      "['J', 'F', 'M', 'A', 'M', 'J', 'J', 'A', 'S', 'O', 'N', 'D']\n",
      "['J', 'F', 'M', 'A', 'M', 'J', 'J', 'A', 'S', 'O', 'N', 'D']\n"
     ]
    }
   ],
   "source": [
    "import numpy as np\n",
    "\n",
    "months = np.array([\"January\",\n",
    "         \"February\",\n",
    "         \"March\",\n",
    "         \"April\",\n",
    "         \"May\",\n",
    "         \"June\",\n",
    "         \"July\",\n",
    "         \"August\",\n",
    "         \"September\",\n",
    "         \"October\",\n",
    "         \"November\",\n",
    "         \"December\"])\n",
    "\n",
    "t = []\n",
    "for n in months:\n",
    "    t.append(n[0])\n",
    "print(t)\n",
    "\n",
    "print([n[0] for n in months])"
   ]
  }
 ],
 "metadata": {
  "kernelspec": {
   "display_name": "Python 3 (ipykernel)",
   "language": "python",
   "name": "python3"
  },
  "language_info": {
   "codemirror_mode": {
    "name": "ipython",
    "version": 3
   },
   "file_extension": ".py",
   "mimetype": "text/x-python",
   "name": "python",
   "nbconvert_exporter": "python",
   "pygments_lexer": "ipython3",
   "version": "3.8.8"
  }
 },
 "nbformat": 4,
 "nbformat_minor": 2
}
