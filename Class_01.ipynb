{
 "cells": [
  {
   "cell_type": "code",
   "execution_count": 38,
   "metadata": {},
   "outputs": [
    {
     "name": "stdout",
     "output_type": "stream",
     "text": [
      "amount paid by the customer: 100000\n",
      "amount paid by the customer:  100000\n",
      "amount received from the customer:  864.5\n",
      "effective rate:  0.008645\n",
      "If you want to quit, type 'yes': yes\n"
     ]
    }
   ],
   "source": [
    "while 1:\n",
    "    \n",
    "    x = int(input(\"amount paid by the customer: \"))\n",
    "\n",
    "    mk_rate = 0.0091\n",
    "\n",
    "    if x < 10_000:\n",
    "        multiplier = 0.9\n",
    "\n",
    "    elif (x>=10_000 and x< 100_000):\n",
    "        multiplier = 0.925\n",
    "\n",
    "    elif (x>=100_000 and x< 1_000_000):\n",
    "        multiplier = 0.95\n",
    "\n",
    "    elif (x>=1_000_000 and x< 10_000_000):\n",
    "        multiplier = 0.97\n",
    "\n",
    "    else:\n",
    "        multiplier = 0.98\n",
    "\n",
    "    print (\"amount paid by the customer: \", x)\n",
    "    print (\"amount received from the customer: \", x*multiplier*mk_rate)\n",
    "    print (\"effective rate: \" , multiplier*mk_rate)\n",
    "    \n",
    "    y = input(\"If you want to quit, type 'yes': \")\n",
    "    \n",
    "    if (y == 'yes'):\n",
    "        break"
   ]
  },
  {
   "cell_type": "code",
   "execution_count": 52,
   "metadata": {},
   "outputs": [
    {
     "name": "stdout",
     "output_type": "stream",
     "text": [
      "0\n",
      "1\n",
      "2\n",
      "4\n",
      "5\n"
     ]
    }
   ],
   "source": [
    "for x in range(6):\n",
    "    if (x==3 or x==6):\n",
    "        continue\n",
    "    print(x)"
   ]
  },
  {
   "cell_type": "code",
   "execution_count": null,
   "metadata": {},
   "outputs": [
    {
     "name": "stdout",
     "output_type": "stream",
     "text": [
      "Fahrenheit or Celsius? yes\n",
      "Do you want to endno\n",
      "Fahrenheit or Celsius? yes\n"
     ]
    }
   ],
   "source": [
    "while 1:\n",
    "    \n",
    "    y = input(\"Fahrenheit or Celsius? \")\n",
    "\n",
    "    if (y == 'Fahrenheit'):\n",
    "        f = int(input(\"Temperature in fahrenheit: \"))\n",
    "        print (f, \" degree fahrenheit is equal to \", 5*(f-32)/9, \" celsius \")\n",
    "        \n",
    "\n",
    "    elif (y == 'Celsius'):\n",
    "        c = int(input(\"Temperature in celsius\"))\n",
    "        print (c, \" degree celsius is equal to \", (1.8*c) + 32,  \" fahrenheit\")  \n",
    "\n",
    "#else:\n",
    "    \n",
    "    z = input(\"Do you want to end\")\n",
    "    if z == 'yes':\n",
    "        break\n"
   ]
  }
 ],
 "metadata": {
  "kernelspec": {
   "display_name": "Python 3 (ipykernel)",
   "language": "python",
   "name": "python3"
  },
  "language_info": {
   "codemirror_mode": {
    "name": "ipython",
    "version": 3
   },
   "file_extension": ".py",
   "mimetype": "text/x-python",
   "name": "python",
   "nbconvert_exporter": "python",
   "pygments_lexer": "ipython3",
   "version": "3.8.8"
  }
 },
 "nbformat": 4,
 "nbformat_minor": 2
}
