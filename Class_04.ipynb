{
 "cells": [
  {
   "cell_type": "code",
   "execution_count": 10,
   "metadata": {},
   "outputs": [
    {
     "name": "stdout",
     "output_type": "stream",
     "text": [
      "Number5\n",
      "False\n"
     ]
    }
   ],
   "source": [
    "def in_even(n: int):\n",
    "    if n%2 == 0:\n",
    "        r = 'True'\n",
    "    else:\n",
    "        r = \"False\"\n",
    "    return r\n",
    "        \n",
    "x = input(\"Number\")        \n",
    "print(in_even(int(x)))"
   ]
  },
  {
   "cell_type": "code",
   "execution_count": 12,
   "metadata": {},
   "outputs": [
    {
     "name": "stdout",
     "output_type": "stream",
     "text": [
      "['fizz', 'buzz', 'buzz', 'fizz', 'fizz', 'fizz']\n",
      "What do you want to count?buzz\n",
      "2\n"
     ]
    }
   ],
   "source": [
    "def count(n: tuple,s: str):\n",
    "    x = 0\n",
    "    for i in n:\n",
    "        if i == s:\n",
    "            x-=-1\n",
    "    return x\n",
    "\n",
    "A = [\"fizz\",\"buzz\",\"buzz\",\"fizz\",\"fizz\",\"fizz\"]\n",
    "print(A)\n",
    "s = input(\"What do you want to count?\")\n",
    "\n",
    "print(count(A,s))"
   ]
  },
  {
   "cell_type": "code",
   "execution_count": 19,
   "metadata": {},
   "outputs": [
    {
     "name": "stdout",
     "output_type": "stream",
     "text": [
      "height10\n",
      "98100.0\n"
     ]
    }
   ],
   "source": [
    "rho = 1000\n",
    "g = 9.81\n",
    "y = input(\"height\")\n",
    "a = lambda x: 1000*9.81*float(x)\n",
    "print(a(y))"
   ]
  },
  {
   "cell_type": "code",
   "execution_count": 23,
   "metadata": {},
   "outputs": [
    {
     "name": "stdout",
     "output_type": "stream",
     "text": [
      "None\n"
     ]
    }
   ],
   "source": [
    "import numpy as np\n",
    "def sqrt(x):\n",
    "    return np.sqrt(x)\n",
    "\n",
    "def in_even(x,a):\n",
    "    if x%2==0 and a%2==0:\n",
    "        print(\"True\")\n",
    "    \n",
    "print(in_even(16,sqrt(16\n",
    "    )))"
   ]
  }
 ],
 "metadata": {
  "kernelspec": {
   "display_name": "Python 3 (ipykernel)",
   "language": "python",
   "name": "python3"
  },
  "language_info": {
   "codemirror_mode": {
    "name": "ipython",
    "version": 3
   },
   "file_extension": ".py",
   "mimetype": "text/x-python",
   "name": "python",
   "nbconvert_exporter": "python",
   "pygments_lexer": "ipython3",
   "version": "3.8.8"
  }
 },
 "nbformat": 4,
 "nbformat_minor": 2
}
