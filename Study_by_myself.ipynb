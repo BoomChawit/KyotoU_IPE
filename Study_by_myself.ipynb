{
 "cells": [
  {
   "cell_type": "code",
   "execution_count": 98,
   "metadata": {},
   "outputs": [
    {
     "name": "stdout",
     "output_type": "stream",
     "text": [
      "[0.859, -3.788, -38.387, 24.647]\n",
      "[ 9.01212014 -5.21424677  0.61037937]\n"
     ]
    },
    {
     "data": {
      "image/png": "[encoded data removed]",
      "text/plain": [
       "<Figure size 432x288 with 1 Axes>"
      ]
     },
     "metadata": {
      "needs_background": "light"
     },
     "output_type": "display_data"
    }
   ],
   "source": [
    "%matplotlib inline\n",
    "import numpy as np\n",
    "from matplotlib import pyplot as plt\n",
    "import random\n",
    "\n",
    "np.random.seed(0)\n",
    "x = np.linspace(-6,10,100)\n",
    "y = (2*x**3 - 8*x**2 - 96*x)\n",
    "y_n = y * np.random.random(size=x.shape)\n",
    "x_e, y_e= zip(*random.sample(list(zip(x,y_n)),50))\n",
    "\n",
    "tmp = sorted(zip(x_e,y_e))\n",
    "x_e = [t[0] for t in tmp]\n",
    "y_e = [t[1] for t in tmp]\n",
    "\n",
    "coeffs = np.polyfit(x_e,y_e,3)\n",
    "yfit = np.poly1d(coeffs)(x_e)\n",
    "print([round(c,3) for c in coeffs])\n",
    "\n",
    "# plt.plot(x,y,)\n",
    "# plt.plot(x_e, y_e, 'ro')\n",
    "# plt.plot(x_e,yfit)\n",
    "\n",
    "r = np.roots(coeffs)\n",
    "plt.plot(x_e,yfit)\n",
    "plt.axhline(0)\n",
    "z = np.array([abs(0*a) for a in r]) #np.zeros(len(r))\n",
    "plt.plot(r,z, 'bs')\n",
    "print(r)"
   ]
  },
  {
   "cell_type": "code",
   "execution_count": 107,
   "metadata": {},
   "outputs": [
    {
     "name": "stdout",
     "output_type": "stream",
     "text": [
      "[array([-5.21424677]), array([0.61037937]), array([9.01212014])]\n"
     ]
    }
   ],
   "source": [
    "from scipy.optimize import fsolve\n",
    "print([fsolve(lambda t: np.poly1d(coeffs)(t), x) for x in (-6,0,10)])"
   ]
  },
  {
   "cell_type": "code",
   "execution_count": 115,
   "metadata": {},
   "outputs": [
    {
     "name": "stdout",
     "output_type": "stream",
     "text": [
      "[ 4.48194856 -0.8679003   4.3345355  -0.02823436]\n"
     ]
    }
   ],
   "source": [
    "import numpy as np\n",
    "A = np.array([[1,-1,1,343],\n",
    "              [0,10,25,343],\n",
    "              [20,10,0,34],\n",
    "              [343,3434,343,343]])\n",
    "B = np.array([0,90,80,34])\n",
    "x = np.linalg.solve(A,B);print(x)"
   ]
  },
  {
   "cell_type": "code",
   "execution_count": 162,
   "metadata": {},
   "outputs": [],
   "source": [
    "import pandas as pd\n",
    "students = pd.read_csv('../ILAS_PyEng2019/sample_data/sample_student_data.csv')\n",
    "\n",
    "url = 'https://raw.githubusercontent.com/justmarkham/DAT8/master/data/chipotle.tsv'  \n",
    "chipotle = pd.read_csv(url, sep = '\\t')\n",
    "# chipotle"
   ]
  },
  {
   "cell_type": "code",
   "execution_count": 183,
   "metadata": {},
   "outputs": [],
   "source": [
    "import pandas as pd\n",
    "students = pd.read_csv('../ILAS_PyEng2019/sample_data/sample_student_data.csv', \n",
    "                       skiprows=[1], index_col = 0)\n",
    "# students"
   ]
  },
  {
   "cell_type": "code",
   "execution_count": 211,
   "metadata": {},
   "outputs": [
    {
     "data": {
      "text/html": [
       "<div>\n",
       "<style scoped>\n",
       "    .dataframe tbody tr th:only-of-type {\n",
       "        vertical-align: middle;\n",
       "    }\n",
       "\n",
       "    .dataframe tbody tr th {\n",
       "        vertical-align: top;\n",
       "    }\n",
       "\n",
       "    .dataframe thead th {\n",
       "        text-align: right;\n",
       "    }\n",
       "</style>\n",
       "<table border=\"1\" class=\"dataframe\">\n",
       "  <thead>\n",
       "    <tr style=\"text-align: right;\">\n",
       "      <th></th>\n",
       "      <th>length</th>\n",
       "      <th>width</th>\n",
       "    </tr>\n",
       "  </thead>\n",
       "  <tbody>\n",
       "    <tr>\n",
       "      <th>Chong</th>\n",
       "      <td>1.0</td>\n",
       "      <td>0.5</td>\n",
       "    </tr>\n",
       "    <tr>\n",
       "      <th>Omar</th>\n",
       "      <td>2.0</td>\n",
       "      <td>1.0</td>\n",
       "    </tr>\n",
       "    <tr>\n",
       "      <th>Sun</th>\n",
       "      <td>1.5</td>\n",
       "      <td>1.5</td>\n",
       "    </tr>\n",
       "    <tr>\n",
       "      <th>Boom</th>\n",
       "      <td>10.0</td>\n",
       "      <td>3.0</td>\n",
       "    </tr>\n",
       "  </tbody>\n",
       "</table>\n",
       "</div>"
      ],
      "text/plain": [
       "       length  width\n",
       "Chong     1.0    0.5\n",
       "Omar      2.0    1.0\n",
       "Sun       1.5    1.5\n",
       "Boom     10.0    3.0"
      ]
     },
     "execution_count": 211,
     "metadata": {},
     "output_type": "execute_result"
    }
   ],
   "source": [
    "length_dict = {'Chong': 1,\n",
    "               'Omar': 2,\n",
    "               'Sun': 1.5,\n",
    "               'Boom':10}\n",
    "width_dict = {'Chong': 0.5,\n",
    "              'Omar': 1,\n",
    "              'Sun': 1.5,\n",
    "              'Boom':3}\n",
    "length = pd.Series(length_dict)\n",
    "width = pd.Series(width_dict)\n",
    "ICP = pd.DataFrame({'length': length,'width': width})\n",
    "ICP"
   ]
  },
  {
   "cell_type": "code",
   "execution_count": null,
   "metadata": {},
   "outputs": [],
   "source": []
  }
 ],
 "metadata": {
  "kernelspec": {
   "display_name": "Python 3",
   "language": "python",
   "name": "python3"
  },
  "language_info": {
   "codemirror_mode": {
    "name": "ipython",
    "version": 3
   },
   "file_extension": ".py",
   "mimetype": "text/x-python",
   "name": "python",
   "nbconvert_exporter": "python",
   "pygments_lexer": "ipython3",
   "version": "3.7.3"
  }
 },
 "nbformat": 4,
 "nbformat_minor": 2
}
